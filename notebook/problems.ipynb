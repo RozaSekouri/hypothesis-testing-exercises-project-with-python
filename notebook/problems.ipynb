{
 "cells": [
  {
   "cell_type": "markdown",
   "id": "d9d036c6",
   "metadata": {},
   "source": [
    "# Hypothesis testing problems"
   ]
  },
  {
   "cell_type": "markdown",
   "id": "d157c4db",
   "metadata": {},
   "source": [
    "## Exercise 1\n",
    "\n",
    "You are a nutritionist researching two different types of diets to see if there is a significant difference in weight loss after one month. You choose two random groups of people; one group follows the first diet, and the other follows the second. At the end of the month, you record the weight loss (in kg) for each person:\n",
    "\n",
    "| Diet 1 | Diet 2 |\n",
    "|:-------|:-------|\n",
    "| 2.0 | 3.0 |\n",
    "| 2.5 | 3.2 |\n",
    "| 3.0 | 3.1 |\n",
    "| 2.8 | 2.9 |\n",
    "| 2.3 | 2.8 |\n",
    "| 2.7 | 3.0 |\n",
    "| 2.5 | 3.2 |\n",
    "\n",
    "With these data, it seeks to answer the following question: Is there a significant difference in average weight loss between people who followed the first diet and those who followed the second diet?\n",
    "\n",
    "To draw conclusions, follow the points below:\n",
    "\n",
    "- State the hypothesis: null and alternative hypothesis.\n",
    "- Perform the test to test the hypothesis. You can use a Student's t-test.\n",
    "- Analyze the conclusions."
   ]
  },
  {
   "cell_type": "code",
   "execution_count": null,
   "id": "8e0f3cf0",
   "metadata": {},
   "outputs": [
    {
     "name": "stdout",
     "output_type": "stream",
     "text": [
      "The p-value of Levene's test (0.158) is greater than or equal to the significance level (0.05).\n",
      "We fail to reject the null hypothesis of equal variances (use pooled t-test).\n",
      "\n",
      "Using Pooled t-test (equal variances):\n",
      "t-statistic: -3.538\n",
      "p-value: 0.0041\n",
      "Conclusion: Reject the null hypothesis (significant difference in weight loss).\n"
     ]
    }
   ],
   "source": [
    "import pandas as pd\n",
    "import numpy as np\n",
    "import scipy.stats as stats\n",
    "\n",
    "# Data for the two diets\n",
    "diet1 = [2.0, 2.5, 3.0, 2.8, 2.3, 2.7, 2.5]\n",
    "diet2 = [3.0, 3.2, 3.1, 2.9, 2.8, 3.0, 3.2]\n",
    "\n",
    "# Perform Levene's test for equal variances\n",
    "levene_stat, levene_p = stats.levene(diet1, diet2)  \n",
    "\n",
    "alpha = 0.05\n",
    "\n",
    "# Check Levene's test result\n",
    "if levene_p < alpha:\n",
    "    print(f\"The p-value of Levene's test ({levene_p:.3f}) is less than the significance level ({alpha}).\")\n",
    "    print(\"We reject the null hypothesis of equal variances (use Welch's t-test).\")\n",
    "else:\n",
    "    print(f\"The p-value of Levene's test ({levene_p:.3f}) is greater than or equal to the significance level ({alpha}).\")\n",
    "    print(\"We fail to reject the null hypothesis of equal variances (use pooled t-test).\")\n",
    "\n",
    "# Perform the appropriate t-test\n",
    "if levene_p < alpha:\n",
    "    t_stat, p_value = stats.ttest_ind(diet1, diet2, equal_var=False)  # Welch's t-test\n",
    "    print(\"\\nUsing Welch's t-test (unequal variances):\")\n",
    "else:\n",
    "    t_stat, p_value = stats.ttest_ind(diet1, diet2, equal_var=True)  # Pooled t-test\n",
    "    print(\"\\nUsing Pooled t-test (equal variances):\")\n",
    "\n",
    "print(f\"t-statistic: {t_stat:.3f}\")\n",
    "print(f\"p-value: {p_value:.4f}\")\n",
    "\n",
    "# Interpret the result\n",
    "if p_value < alpha:\n",
    "    print(\"Conclusion: Reject the null hypothesis (significant difference in weight loss).\")\n",
    "else:\n",
    "    print(\"Conclusion: Fail to reject the null hypothesis (no significant difference).\")"
   ]
  },
  {
   "cell_type": "markdown",
   "id": "f432e18e",
   "metadata": {},
   "source": [
    "## ANOVA\n",
    "\n",
    "**ANOVA** (*Analysis of Variance*) is a statistical technique used to compare the measures of two or more groups. The idea behind ANOVA is to decompose the total variability in the data into two components: between-group variability and within-group variability:\n",
    "\n",
    "- **Between-group variability**: This variability refers to the differences between the group means. If this variability is considerably larger than the within-group variability, it could be an indication that at least one of the group means is different.\n",
    "- **Within-group variability**: This variability refers to the dispersion of the data within each group. If all groups have similar variability, then any noticeable difference in group means could be considered significant.\n",
    "\n",
    "Hypotheses in ANOVA typically include:\n",
    "\n",
    "- **Null hypothesis** ($H₀$): The means of all groups are equal.\n",
    "- **Alternative hypothesis** ($H₁$): At least one of the group means is different.\n",
    "\n",
    "If the ANOVA test result is significant (e.g., a p-value less than a threshold such as 0.05), this suggests that at least one group mean is different."
   ]
  },
  {
   "cell_type": "markdown",
   "id": "fc5f3721",
   "metadata": {},
   "source": [
    "## Exercise 2\n",
    "\n",
    "A farmer decides to test three different types of fertilizers to determine if one is superior in terms of corn production. The farmer plants corn on 15 identical plots and uses all three fertilizers (5 plots for each type). At the end of the season, he measures the corn yield (in kg) of each plot, with the following result:\n",
    "\n",
    "| Fertilizer 1 | Fertilizer 2 | Fertilizer 3 |\n",
    "|:-------------|:-------------|:-------------|\n",
    "| 20 | 22 | 24 |\n",
    "| 21 | 21 | 23 |\n",
    "| 20 | 23 | 22 |\n",
    "| 19 | 22 | 23 |\n",
    "| 20 | 21 | 24 |\n",
    "\n",
    "With this data, he seeks to answer the following question: Is there a significant difference in average corn yield between the three types of fertilizers?\n",
    "\n",
    "To help you, follow the points below:\n",
    "\n",
    "- State the hypothesis: null and alternative hypothesis.\n",
    "- Perform the ANOVA test.\n",
    "- Analyze the conclusions.\n",
    "- If one fertilizer is better than another, how can we know it?"
   ]
  },
  {
   "cell_type": "markdown",
   "id": "93eb2fbb",
   "metadata": {},
   "source": [
    "Null hypothesis (H \n",
    "0\n",
    "​\n",
    " ): There is no significant difference in the average corn yield between the three types of fertilizers.  In other words, μ \n",
    "1\n",
    "​\n",
    " =μ \n",
    "2\n",
    "​\n",
    " =μ \n",
    "3\n",
    "​\n",
    " , where μi  \n",
    "​\n",
    "    represents the population mean yield for fertilizer type i.\n",
    "\n",
    "Alternative hypothesis (H \n",
    "1\n",
    "​\n",
    " ): At least one of the fertilizer types results in a different average corn yield.  In other words, not all μ \n",
    "i\n",
    "​\n",
    "  are equal."
   ]
  },
  {
   "cell_type": "code",
   "execution_count": 2,
   "id": "eecad0ca",
   "metadata": {},
   "outputs": [
    {
     "name": "stdout",
     "output_type": "stream",
     "text": [
      "ANOVA F-statistic: 20.316\n",
      "ANOVA P-value: 0.000\n"
     ]
    },
    {
     "name": "stderr",
     "output_type": "stream",
     "text": [
      "/tmp/ipykernel_519/1127577017.py:26: MatplotlibDeprecationWarning: The 'labels' parameter of boxplot() has been renamed 'tick_labels' since Matplotlib 3.9; support for the old name will be dropped in 3.11.\n",
      "  plt.boxplot([fertilizer1, fertilizer2, fertilizer3], labels=['Fertilizer 1', 'Fertilizer 2', 'Fertilizer 3'])\n"
     ]
    },
    {
     "data": {
      "image/png": "[encoded data removed]",
      "text/plain": [
       "<Figure size 800x600 with 1 Axes>"
      ]
     },
     "metadata": {},
     "output_type": "display_data"
    }
   ],
   "source": [
    "import scipy.stats as stats\n",
    "import numpy as np\n",
    "import pandas as pd\n",
    "from statsmodels.stats.multicomp import pairwise_tukeyhsd\n",
    "import matplotlib.pyplot as plt\n",
    "\n",
    "# Data for corn yield (kg) for each fertilizer type\n",
    "fertilizer1 = np.array([20, 21, 20, 19, 20])\n",
    "fertilizer2 = np.array([22, 21, 23, 22, 21])\n",
    "fertilizer3 = np.array([24, 23, 22, 23, 24])\n",
    "\n",
    "# Perform the ANOVA test\n",
    "f_statistic, p_value = stats.f_oneway(fertilizer1, fertilizer2, fertilizer3)\n",
    "\n",
    "# Print the results\n",
    "print(f\"ANOVA F-statistic: {f_statistic:.3f}\")\n",
    "print(f\"ANOVA P-value: {p_value:.3f}\")\n",
    "\n",
    "# Create a DataFrame for post-hoc testing and visualization\n",
    "data = {'Fertilizer': ['Fertilizer 1'] * 5 + ['Fertilizer 2'] * 5 + ['Fertilizer 3'] * 5,\n",
    "        'Yield': list(fertilizer1) + list(fertilizer2) + list(fertilizer3)}\n",
    "df = pd.DataFrame(data)\n",
    "\n",
    "# Visualization\n",
    "plt.figure(figsize=(8, 6))\n",
    "plt.boxplot([fertilizer1, fertilizer2, fertilizer3], labels=['Fertilizer 1', 'Fertilizer 2', 'Fertilizer 3'])\n",
    "plt.title('Corn Yield by Fertilizer Type')\n",
    "plt.xlabel('Fertilizer Type')\n",
    "plt.ylabel('Corn Yield (kg)')\n",
    "plt.show()\n"
   ]
  }
 ],
 "metadata": {
  "kernelspec": {
   "display_name": "Python 3",
   "language": "python",
   "name": "python3"
  },
  "language_info": {
   "codemirror_mode": {
    "name": "ipython",
    "version": 3
   },
   "file_extension": ".py",
   "mimetype": "text/x-python",
   "name": "python",
   "nbconvert_exporter": "python",
   "pygments_lexer": "ipython3",
   "version": "3.11.4"
  }
 },
 "nbformat": 4,
 "nbformat_minor": 5
}
